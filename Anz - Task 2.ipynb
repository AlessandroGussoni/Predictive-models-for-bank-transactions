{
 "cells": [
  {
   "cell_type": "markdown",
   "metadata": {},
   "source": [
    "## ANZ - Task 2"
   ]
  },
  {
   "cell_type": "markdown",
   "metadata": {},
   "source": [
    "### Setup"
   ]
  },
  {
   "cell_type": "code",
   "execution_count": 1,
   "metadata": {},
   "outputs": [],
   "source": [
    "# Handling data\n",
    "import pandas as pd\n",
    "import numpy as np\n",
    "import datetime as dt\n",
    "\n",
    "# Visualization libraries\n",
    "import matplotlib.pyplot as plt\n",
    "import seaborn as sns\n",
    "\n",
    "# Style setup\n",
    "import matplotlib as mpl\n",
    "mpl.rc('axes', labelsize = 14)\n",
    "mpl.rc('xtick', labelsize = 16)\n",
    "mpl.rc('ytick', labelsize = 12)\n",
    "plt.style.use('fivethirtyeight')"
   ]
  },
  {
   "cell_type": "markdown",
   "metadata": {},
   "source": [
    "### Loading data"
   ]
  },
  {
   "cell_type": "markdown",
   "metadata": {},
   "source": [
    "In the next cells i am going to load the data. Furthermore, i will add to variable about the month of the transaction and the specific minute of the day in which it took place."
   ]
  },
  {
   "cell_type": "code",
   "execution_count": 2,
   "metadata": {},
   "outputs": [
    {
     "data": {
      "text/html": [
       "<div>\n",
       "<style scoped>\n",
       "    .dataframe tbody tr th:only-of-type {\n",
       "        vertical-align: middle;\n",
       "    }\n",
       "\n",
       "    .dataframe tbody tr th {\n",
       "        vertical-align: top;\n",
       "    }\n",
       "\n",
       "    .dataframe thead th {\n",
       "        text-align: right;\n",
       "    }\n",
       "</style>\n",
       "<table border=\"1\" class=\"dataframe\">\n",
       "  <thead>\n",
       "    <tr style=\"text-align: right;\">\n",
       "      <th></th>\n",
       "      <th>status</th>\n",
       "      <th>card_present_flag</th>\n",
       "      <th>bpay_biller_code</th>\n",
       "      <th>account</th>\n",
       "      <th>currency</th>\n",
       "      <th>long_lat</th>\n",
       "      <th>txn_description</th>\n",
       "      <th>merchant_id</th>\n",
       "      <th>merchant_code</th>\n",
       "      <th>first_name</th>\n",
       "      <th>...</th>\n",
       "      <th>merchant_state</th>\n",
       "      <th>extraction</th>\n",
       "      <th>amount</th>\n",
       "      <th>transaction_id</th>\n",
       "      <th>country</th>\n",
       "      <th>customer_id</th>\n",
       "      <th>merchant_long_lat</th>\n",
       "      <th>movement</th>\n",
       "      <th>month</th>\n",
       "      <th>time</th>\n",
       "    </tr>\n",
       "  </thead>\n",
       "  <tbody>\n",
       "    <tr>\n",
       "      <th>0</th>\n",
       "      <td>authorized</td>\n",
       "      <td>1.0</td>\n",
       "      <td>NaN</td>\n",
       "      <td>ACC-1598451071</td>\n",
       "      <td>AUD</td>\n",
       "      <td>153.41 -27.95</td>\n",
       "      <td>POS</td>\n",
       "      <td>81c48296-73be-44a7-befa-d053f48ce7cd</td>\n",
       "      <td>NaN</td>\n",
       "      <td>Diana</td>\n",
       "      <td>...</td>\n",
       "      <td>QLD</td>\n",
       "      <td>2018-08-01 01:01:15+00:00</td>\n",
       "      <td>16.25</td>\n",
       "      <td>a623070bfead4541a6b0fff8a09e706c</td>\n",
       "      <td>Australia</td>\n",
       "      <td>CUS-2487424745</td>\n",
       "      <td>153.38 -27.99</td>\n",
       "      <td>debit</td>\n",
       "      <td>8</td>\n",
       "      <td>61</td>\n",
       "    </tr>\n",
       "    <tr>\n",
       "      <th>1</th>\n",
       "      <td>authorized</td>\n",
       "      <td>0.0</td>\n",
       "      <td>NaN</td>\n",
       "      <td>ACC-1598451071</td>\n",
       "      <td>AUD</td>\n",
       "      <td>153.41 -27.95</td>\n",
       "      <td>SALES-POS</td>\n",
       "      <td>830a451c-316e-4a6a-bf25-e37caedca49e</td>\n",
       "      <td>NaN</td>\n",
       "      <td>Diana</td>\n",
       "      <td>...</td>\n",
       "      <td>NSW</td>\n",
       "      <td>2018-08-01 01:13:45+00:00</td>\n",
       "      <td>14.19</td>\n",
       "      <td>13270a2a902145da9db4c951e04b51b9</td>\n",
       "      <td>Australia</td>\n",
       "      <td>CUS-2487424745</td>\n",
       "      <td>151.21 -33.87</td>\n",
       "      <td>debit</td>\n",
       "      <td>8</td>\n",
       "      <td>73</td>\n",
       "    </tr>\n",
       "    <tr>\n",
       "      <th>2</th>\n",
       "      <td>authorized</td>\n",
       "      <td>1.0</td>\n",
       "      <td>NaN</td>\n",
       "      <td>ACC-1222300524</td>\n",
       "      <td>AUD</td>\n",
       "      <td>151.23 -33.94</td>\n",
       "      <td>POS</td>\n",
       "      <td>835c231d-8cdf-4e96-859d-e9d571760cf0</td>\n",
       "      <td>NaN</td>\n",
       "      <td>Michael</td>\n",
       "      <td>...</td>\n",
       "      <td>NSW</td>\n",
       "      <td>2018-08-01 01:26:15+00:00</td>\n",
       "      <td>6.42</td>\n",
       "      <td>feb79e7ecd7048a5a36ec889d1a94270</td>\n",
       "      <td>Australia</td>\n",
       "      <td>CUS-2142601169</td>\n",
       "      <td>151.21 -33.87</td>\n",
       "      <td>debit</td>\n",
       "      <td>8</td>\n",
       "      <td>86</td>\n",
       "    </tr>\n",
       "    <tr>\n",
       "      <th>3</th>\n",
       "      <td>authorized</td>\n",
       "      <td>1.0</td>\n",
       "      <td>NaN</td>\n",
       "      <td>ACC-1037050564</td>\n",
       "      <td>AUD</td>\n",
       "      <td>153.10 -27.66</td>\n",
       "      <td>SALES-POS</td>\n",
       "      <td>48514682-c78a-4a88-b0da-2d6302e64673</td>\n",
       "      <td>NaN</td>\n",
       "      <td>Rhonda</td>\n",
       "      <td>...</td>\n",
       "      <td>QLD</td>\n",
       "      <td>2018-08-01 01:38:45+00:00</td>\n",
       "      <td>40.90</td>\n",
       "      <td>2698170da3704fd981b15e64a006079e</td>\n",
       "      <td>Australia</td>\n",
       "      <td>CUS-1614226872</td>\n",
       "      <td>153.05 -26.68</td>\n",
       "      <td>debit</td>\n",
       "      <td>8</td>\n",
       "      <td>98</td>\n",
       "    </tr>\n",
       "    <tr>\n",
       "      <th>4</th>\n",
       "      <td>authorized</td>\n",
       "      <td>1.0</td>\n",
       "      <td>NaN</td>\n",
       "      <td>ACC-1598451071</td>\n",
       "      <td>AUD</td>\n",
       "      <td>153.41 -27.95</td>\n",
       "      <td>SALES-POS</td>\n",
       "      <td>b4e02c10-0852-4273-b8fd-7b3395e32eb0</td>\n",
       "      <td>NaN</td>\n",
       "      <td>Diana</td>\n",
       "      <td>...</td>\n",
       "      <td>QLD</td>\n",
       "      <td>2018-08-01 01:51:15+00:00</td>\n",
       "      <td>3.25</td>\n",
       "      <td>329adf79878c4cf0aeb4188b4691c266</td>\n",
       "      <td>Australia</td>\n",
       "      <td>CUS-2487424745</td>\n",
       "      <td>153.44 -28.06</td>\n",
       "      <td>debit</td>\n",
       "      <td>8</td>\n",
       "      <td>111</td>\n",
       "    </tr>\n",
       "  </tbody>\n",
       "</table>\n",
       "<p>5 rows × 25 columns</p>\n",
       "</div>"
      ],
      "text/plain": [
       "       status  card_present_flag bpay_biller_code         account currency  \\\n",
       "0  authorized                1.0              NaN  ACC-1598451071      AUD   \n",
       "1  authorized                0.0              NaN  ACC-1598451071      AUD   \n",
       "2  authorized                1.0              NaN  ACC-1222300524      AUD   \n",
       "3  authorized                1.0              NaN  ACC-1037050564      AUD   \n",
       "4  authorized                1.0              NaN  ACC-1598451071      AUD   \n",
       "\n",
       "        long_lat txn_description                           merchant_id  \\\n",
       "0  153.41 -27.95             POS  81c48296-73be-44a7-befa-d053f48ce7cd   \n",
       "1  153.41 -27.95       SALES-POS  830a451c-316e-4a6a-bf25-e37caedca49e   \n",
       "2  151.23 -33.94             POS  835c231d-8cdf-4e96-859d-e9d571760cf0   \n",
       "3  153.10 -27.66       SALES-POS  48514682-c78a-4a88-b0da-2d6302e64673   \n",
       "4  153.41 -27.95       SALES-POS  b4e02c10-0852-4273-b8fd-7b3395e32eb0   \n",
       "\n",
       "   merchant_code first_name  ...  merchant_state                extraction  \\\n",
       "0            NaN      Diana  ...             QLD 2018-08-01 01:01:15+00:00   \n",
       "1            NaN      Diana  ...             NSW 2018-08-01 01:13:45+00:00   \n",
       "2            NaN    Michael  ...             NSW 2018-08-01 01:26:15+00:00   \n",
       "3            NaN     Rhonda  ...             QLD 2018-08-01 01:38:45+00:00   \n",
       "4            NaN      Diana  ...             QLD 2018-08-01 01:51:15+00:00   \n",
       "\n",
       "  amount                    transaction_id    country     customer_id  \\\n",
       "0  16.25  a623070bfead4541a6b0fff8a09e706c  Australia  CUS-2487424745   \n",
       "1  14.19  13270a2a902145da9db4c951e04b51b9  Australia  CUS-2487424745   \n",
       "2   6.42  feb79e7ecd7048a5a36ec889d1a94270  Australia  CUS-2142601169   \n",
       "3  40.90  2698170da3704fd981b15e64a006079e  Australia  CUS-1614226872   \n",
       "4   3.25  329adf79878c4cf0aeb4188b4691c266  Australia  CUS-2487424745   \n",
       "\n",
       "  merchant_long_lat  movement month time  \n",
       "0     153.38 -27.99     debit     8   61  \n",
       "1     151.21 -33.87     debit     8   73  \n",
       "2     151.21 -33.87     debit     8   86  \n",
       "3     153.05 -26.68     debit     8   98  \n",
       "4     153.44 -28.06     debit     8  111  \n",
       "\n",
       "[5 rows x 25 columns]"
      ]
     },
     "execution_count": 2,
     "metadata": {},
     "output_type": "execute_result"
    }
   ],
   "source": [
    "df = pd.read_excel(r'C:\\Users\\Aless\\Downloads\\ANZ synthesised transaction dataset (1).xlsx')\n",
    "df.extraction = pd.to_datetime(df.extraction)\n",
    "df['month'] = df.date.apply(lambda x: x.month)\n",
    "df['time'] = df.extraction.apply(lambda x: x.hour * 60 + x.minute)\n",
    "df.head()"
   ]
  },
  {
   "cell_type": "markdown",
   "metadata": {},
   "source": [
    "### Feature creation"
   ]
  },
  {
   "cell_type": "markdown",
   "metadata": {},
   "source": [
    "#### Defining the target variable"
   ]
  },
  {
   "cell_type": "markdown",
   "metadata": {},
   "source": [
    "First i am going to need to compute the target variable of our analysis, the annual salary. In order to compute it i used the following formula:\n",
    "\n",
    "*annual salary = (last_balance - oldest_balance + total_expenditure) * 4*\n",
    "\n",
    "Since i have data for 3 months, i used the '*4' as a proxy for annual salary (even though there are some tiny differences regarding the days). I am going to create a new dataframe about customers with the information needed for regression"
   ]
  },
  {
   "cell_type": "code",
   "execution_count": 3,
   "metadata": {},
   "outputs": [],
   "source": [
    "df_cust = pd.DataFrame(df.groupby('account').age.mean()).reset_index()\n",
    "\n",
    "def get_annual_salary(x):\n",
    "    cust = df.loc[(df.account == x)]\n",
    "    oldest_day = cust.loc[cust.date == min(cust.date)]\n",
    "    first_balance = oldest_day.loc[oldest_day.time == min(oldest_day.time)]\n",
    "    last_day = cust.loc[cust.date == max(cust.date)]\n",
    "    last_balance = last_day.loc[last_day.time == max(last_day.time)]\n",
    "    return (last_balance.balance.iloc[0] - first_balance.balance.iloc[0] + sum(cust.amount)) * 4\n",
    "\n",
    "df_cust['salary'] = df.account.apply(get_annual_salary)"
   ]
  },
  {
   "cell_type": "markdown",
   "metadata": {},
   "source": [
    "#### Creating regressors"
   ]
  },
  {
   "cell_type": "markdown",
   "metadata": {},
   "source": [
    "Next i will create some variable that will help me in predicting the annual salary:\n",
    "    \n",
    "The gender of the customer, his monthly expenditures, their standard deviation and the percentage of total transactions did with a credit card"
   ]
  },
  {
   "cell_type": "code",
   "execution_count": 4,
   "metadata": {},
   "outputs": [
    {
     "data": {
      "text/html": [
       "<div>\n",
       "<style scoped>\n",
       "    .dataframe tbody tr th:only-of-type {\n",
       "        vertical-align: middle;\n",
       "    }\n",
       "\n",
       "    .dataframe tbody tr th {\n",
       "        vertical-align: top;\n",
       "    }\n",
       "\n",
       "    .dataframe thead th {\n",
       "        text-align: right;\n",
       "    }\n",
       "</style>\n",
       "<table border=\"1\" class=\"dataframe\">\n",
       "  <thead>\n",
       "    <tr style=\"text-align: right;\">\n",
       "      <th></th>\n",
       "      <th>age</th>\n",
       "      <th>salary</th>\n",
       "      <th>expenditure</th>\n",
       "      <th>gender</th>\n",
       "      <th>cc_usage</th>\n",
       "      <th>exp_std</th>\n",
       "    </tr>\n",
       "    <tr>\n",
       "      <th>account</th>\n",
       "      <th></th>\n",
       "      <th></th>\n",
       "      <th></th>\n",
       "      <th></th>\n",
       "      <th></th>\n",
       "      <th></th>\n",
       "    </tr>\n",
       "  </thead>\n",
       "  <tbody>\n",
       "    <tr>\n",
       "      <th>ACC-1037050564</th>\n",
       "      <td>40</td>\n",
       "      <td>113244.24</td>\n",
       "      <td>8737.196667</td>\n",
       "      <td>1</td>\n",
       "      <td>0.024221</td>\n",
       "      <td>168.822926</td>\n",
       "    </tr>\n",
       "    <tr>\n",
       "      <th>ACC-1056639002</th>\n",
       "      <td>22</td>\n",
       "      <td>113244.24</td>\n",
       "      <td>8737.196667</td>\n",
       "      <td>0</td>\n",
       "      <td>0.024221</td>\n",
       "      <td>168.822926</td>\n",
       "    </tr>\n",
       "    <tr>\n",
       "      <th>ACC-1199531521</th>\n",
       "      <td>52</td>\n",
       "      <td>104047.20</td>\n",
       "      <td>7898.816667</td>\n",
       "      <td>0</td>\n",
       "      <td>0.042904</td>\n",
       "      <td>245.088217</td>\n",
       "    </tr>\n",
       "    <tr>\n",
       "      <th>ACC-1217063613</th>\n",
       "      <td>27</td>\n",
       "      <td>92808.96</td>\n",
       "      <td>6428.813333</td>\n",
       "      <td>1</td>\n",
       "      <td>0.050193</td>\n",
       "      <td>190.426861</td>\n",
       "    </tr>\n",
       "    <tr>\n",
       "      <th>ACC-1222300524</th>\n",
       "      <td>38</td>\n",
       "      <td>113244.24</td>\n",
       "      <td>8737.196667</td>\n",
       "      <td>0</td>\n",
       "      <td>0.024221</td>\n",
       "      <td>168.822926</td>\n",
       "    </tr>\n",
       "  </tbody>\n",
       "</table>\n",
       "</div>"
      ],
      "text/plain": [
       "                age     salary  expenditure  gender  cc_usage     exp_std\n",
       "account                                                                  \n",
       "ACC-1037050564   40  113244.24  8737.196667       1  0.024221  168.822926\n",
       "ACC-1056639002   22  113244.24  8737.196667       0  0.024221  168.822926\n",
       "ACC-1199531521   52  104047.20  7898.816667       0  0.042904  245.088217\n",
       "ACC-1217063613   27   92808.96  6428.813333       1  0.050193  190.426861\n",
       "ACC-1222300524   38  113244.24  8737.196667       0  0.024221  168.822926"
      ]
     },
     "execution_count": 4,
     "metadata": {},
     "output_type": "execute_result"
    }
   ],
   "source": [
    "def get_monthly_exp(x):\n",
    "    cust = df.loc[(df.account == x)]\n",
    "    return sum(cust.amount) / 3\n",
    "\n",
    "df_cust['expenditure'] = df.account.apply(get_monthly_exp)\n",
    "\n",
    "df['int_gender'] = df.gender.apply(lambda x: 1 if x == 'F' else 0)\n",
    "df_cust['gender'] = df.groupby('account').int_gender.mean().values\n",
    "\n",
    "def get_credit_card_usage(x):\n",
    "    cust = df.loc[(df.account == x)]\n",
    "    return cust.movement.value_counts(normalize = True).loc['credit']\n",
    "\n",
    "df_cust['cc_usage'] = df.account.apply(get_credit_card_usage)\n",
    "\n",
    "def get_exp_std(x):\n",
    "    cust = df.loc[(df.account == x)]\n",
    "    return cust.amount.std()\n",
    "\n",
    "df_cust['exp_std'] = df.account.apply(get_exp_std)\n",
    "df_cust.set_index('account', inplace = True)\n",
    "df_cust.head()"
   ]
  },
  {
   "cell_type": "markdown",
   "metadata": {},
   "source": [
    "### Preprocessing"
   ]
  },
  {
   "cell_type": "markdown",
   "metadata": {},
   "source": [
    "I am goign to apply a second degree polynomial on the training set in order to obtain a more accurate model and at the top of that i will use the minmax scaler. Then i will wrap everything togheter using a pipeline "
   ]
  },
  {
   "cell_type": "code",
   "execution_count": 5,
   "metadata": {},
   "outputs": [],
   "source": [
    "from sklearn.model_selection import train_test_split\n",
    "\n",
    "x = df_cust.drop('salary', axis = 1).values\n",
    "y = df_cust.salary.values\n",
    "\n",
    "x_train, x_test, y_train, y_test = train_test_split(x, y, test_size = 0.2, random_state = 42)\n",
    "\n",
    "\n",
    "from sklearn.preprocessing import PolynomialFeatures\n",
    "from sklearn.preprocessing import MinMaxScaler\n",
    "from sklearn.pipeline import Pipeline\n",
    "\n",
    "preprocessing_pipeline = Pipeline([('poly' , PolynomialFeatures(degree = 2)),\n",
    "                                   ('scaler' , MinMaxScaler())])\n",
    "preprocessing_pipeline.fit(x_train, y_train)\n",
    "data_train_scaled = preprocessing_pipeline.transform(x_train)"
   ]
  },
  {
   "cell_type": "markdown",
   "metadata": {},
   "source": [
    "### Linear regression"
   ]
  },
  {
   "cell_type": "markdown",
   "metadata": {},
   "source": [
    "First let us start to evaluate a linear regression with 10 folds cross validation. I am using a high number of folds since the training set is small and so prone to overfitting"
   ]
  },
  {
   "cell_type": "code",
   "execution_count": 6,
   "metadata": {},
   "outputs": [
    {
     "name": "stdout",
     "output_type": "stream",
     "text": [
      "The Linear Regression scored a mean absolute error of 14058.02 with a cross validation of 10 folds\n"
     ]
    }
   ],
   "source": [
    "from sklearn.linear_model import LinearRegression\n",
    "\n",
    "lin_reg = LinearRegression()\n",
    "lin_reg.fit(data_train_scaled, y_train)\n",
    "\n",
    "from sklearn.model_selection import cross_val_score\n",
    "\n",
    "reg_scores = cross_val_score(lin_reg, data_train_scaled, y_train, cv = 10, scoring = 'neg_mean_absolute_error')\n",
    "print('The Linear Regression scored a mean absolute error of {} with a cross validation of 10 folds'.format(np.round(-reg_scores.mean(), 2)))"
   ]
  },
  {
   "cell_type": "markdown",
   "metadata": {},
   "source": [
    "The mean absolute error is not that good, we can try to test powerful model"
   ]
  },
  {
   "cell_type": "markdown",
   "metadata": {},
   "source": [
    "### Decision tree"
   ]
  },
  {
   "cell_type": "code",
   "execution_count": 7,
   "metadata": {},
   "outputs": [
    {
     "name": "stdout",
     "output_type": "stream",
     "text": [
      "The decision tree scored a mean absolute error of 8246.06 with a cross validation of 10 folds\n"
     ]
    }
   ],
   "source": [
    "from sklearn.tree import DecisionTreeRegressor\n",
    "\n",
    "tree = DecisionTreeRegressor(max_depth = 5)\n",
    "tree.fit(data_train_scaled, y_train)\n",
    "tree_scores = cross_val_score(tree, data_train_scaled, y_train, cv = 10, scoring = 'neg_mean_absolute_error')\n",
    "print('The decision tree scored a mean absolute error of {} with a cross validation of 10 folds'.format(np.round(-tree_scores.mean(), 2)))"
   ]
  },
  {
   "cell_type": "markdown",
   "metadata": {},
   "source": [
    "The decision tree perfomed significantly better than the regression"
   ]
  },
  {
   "cell_type": "markdown",
   "metadata": {},
   "source": [
    "### XGBoost"
   ]
  },
  {
   "cell_type": "markdown",
   "metadata": {},
   "source": [
    "Last we can try one of the most powerful regressor in machine learning: extrreme gradient boost. Since XGB has a lot of different hyperparameters to tune i will try to optimize the model through a randomized research in the hyperparameters' space"
   ]
  },
  {
   "cell_type": "code",
   "execution_count": 8,
   "metadata": {},
   "outputs": [
    {
     "name": "stdout",
     "output_type": "stream",
     "text": [
      "Extreme Gradient Boost scored a mean absolute error of 7962.29 with a cross validation of 10 folds\n"
     ]
    }
   ],
   "source": [
    "import xgboost as xgb\n",
    "\n",
    "xg_reg = xgb.XGBRegressor(n_estimators = 200, learning_rate = 0.2,\n",
    "                          max_depth = 5, alpha = 10)\n",
    "xg_reg.fit(data_train_scaled, y_train)\n",
    "xg_scores = cross_val_score(xg_reg, data_train_scaled, y_train, cv = 10, scoring = 'neg_mean_absolute_error')\n",
    "print('Extreme Gradient Boost scored a mean absolute error of {} with a cross validation of 10 folds'.format(np.round(-xg_scores.mean(), 2)))"
   ]
  },
  {
   "cell_type": "markdown",
   "metadata": {},
   "source": [
    "#### Hyperparameters tuning"
   ]
  },
  {
   "cell_type": "code",
   "execution_count": 9,
   "metadata": {},
   "outputs": [
    {
     "name": "stdout",
     "output_type": "stream",
     "text": [
      "{'n_estimators': 150, 'max_depth': 2, 'gamma': 0.25, 'eta': 0.25, 'alpha': 0.0}\n",
      "Mae of Extreme Gradient Boost after tuning with a cross validation of 10 folds: 6875.76\n"
     ]
    }
   ],
   "source": [
    "from sklearn.model_selection import RandomizedSearchCV\n",
    "\n",
    "param_grid = {'n_estimators' : [50, 75, 100, 125, 150, 175, 200], \n",
    "              'eta' : [0.1, 0.2, 0.25, 0.3, 0.35, 0.4, 0.5], \n",
    "              'gamma' : [0, 0.25, 0.4, 0.5, 0.75, 1.], \n",
    "              'max_depth' : [2, 3, 4, 5],\n",
    "              'alpha' : [0.0, 0.05, 0.1, 0.2]}\n",
    "              \n",
    "grid_search = RandomizedSearchCV(xg_reg, param_grid, cv = 5,\n",
    "                                 scoring = 'neg_mean_absolute_error', return_train_score = True)\n",
    "grid_search.fit(data_train_scaled, y_train)\n",
    "print(grid_search.best_params_)\n",
    "\n",
    "model_tuned = grid_search.best_estimator_\n",
    "xg_tuned_scores = cross_val_score(model_tuned, data_train_scaled, y_train, cv = 10, scoring = 'neg_mean_absolute_error')\n",
    "print('Mae of Extreme Gradient Boost after tuning with a cross validation of 10 folds: {}'.format(np.round(-xg_tuned_scores.mean(), 2)))"
   ]
  },
  {
   "cell_type": "markdown",
   "metadata": {},
   "source": [
    "We managed to reduce again the error. Now that we are satisfied we can test the model in production"
   ]
  },
  {
   "cell_type": "markdown",
   "metadata": {},
   "source": [
    "#### Evaluation on production"
   ]
  },
  {
   "cell_type": "code",
   "execution_count": 10,
   "metadata": {},
   "outputs": [
    {
     "name": "stdout",
     "output_type": "stream",
     "text": [
      "Mean absolute error on production:  4644.87\n",
      "Mape on production: 3.24%\n"
     ]
    },
    {
     "data": {
      "text/plain": [
       "Text(0.5, 1.0, 'Comparing predicted and true salaries')"
      ]
     },
     "execution_count": 10,
     "metadata": {},
     "output_type": "execute_result"
    },
    {
     "data": {
      "image/png": "[encoded data removed]",
      "text/plain": [
       "<Figure size 864x576 with 1 Axes>"
      ]
     },
     "metadata": {
      "needs_background": "light"
     },
     "output_type": "display_data"
    }
   ],
   "source": [
    "from sklearn.metrics import mean_absolute_error\n",
    "\n",
    "\n",
    "data_test_scaled = preprocessing_pipeline.transform(x_test)\n",
    "y_pred_xgb = model_tuned.predict(data_test_scaled)\n",
    "xgb_mae = mean_absolute_error(y_pred_xgb, y_test)\n",
    "print('Mean absolute error on production: ', np.round(xgb_mae, 2))\n",
    "\n",
    "def mean_absolute_percentage_error(y_true, y_pred): \n",
    "    y_true, y_pred = np.array(y_true), np.array(y_pred)\n",
    "    return np.mean(np.abs((y_true - y_pred) / y_true)) * 100\n",
    "\n",
    "mape = mean_absolute_percentage_error(y_test, y_pred_xgb)\n",
    "print('Mape on production: {}%'.format(np.round(mape, 2)))\n",
    "\n",
    "plt.figure(figsize = (12, 8))\n",
    "\n",
    "x = np.array([i for i in range(1, len(x_test) + 1)])\n",
    "y1 = y_test\n",
    "y2 = y_pred_xgb\n",
    "\n",
    "ax = plt.subplot(111)\n",
    "ax.bar(x - 0.2, y1, width = 0.2, color = 'b', align = 'center', label = 'True')\n",
    "ax.bar(x, y2, width = 0.2, color = 'r', align = 'center', label = 'Predicted')\n",
    "ax.set_xlabel('Customers'); ax.set_ylabel('Annual salary')\n",
    "ax.legend(); plt.title('Comparing predicted and true salaries')"
   ]
  },
  {
   "cell_type": "markdown",
   "metadata": {},
   "source": [
    "The model managed to extract meanful information from the transaction data. A mape of 3.24% is acceptable, so the model can be used to create customers segments. If we want to achieve higher perfomance (and so a lower mean absolute error) we can restart to work on the initial dataset in order to extract more features. Another way can be to add logarithmic and exponential functions to our customers dataframe: doing so even though we have the same amount of starting regressors we can increase the the ability of the model to capture complex trends."
   ]
  },
  {
   "cell_type": "markdown",
   "metadata": {},
   "source": []
  }
 ],
 "metadata": {
  "kernelspec": {
   "display_name": "Python 3",
   "language": "python",
   "name": "python3"
  },
  "language_info": {
   "codemirror_mode": {
    "name": "ipython",
    "version": 3
   },
   "file_extension": ".py",
   "mimetype": "text/x-python",
   "name": "python",
   "nbconvert_exporter": "python",
   "pygments_lexer": "ipython3",
   "version": "3.7.3"
  }
 },
 "nbformat": 4,
 "nbformat_minor": 2
}
